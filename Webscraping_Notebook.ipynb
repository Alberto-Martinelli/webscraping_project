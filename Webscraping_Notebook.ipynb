{
 "cells": [
  {
   "cell_type": "markdown",
   "metadata": {
    "collapsed": false
   },
   "source": [
    "## Webscraping and Applied ML - Project\n",
    "_Authors_: Alessia SARRITZU, Alberto MARTINELLI"
   ]
  },
  {
   "cell_type": "markdown",
   "metadata": {
    "collapsed": false
   },
   "source": [
    "### Step 1: Get hotel data from Foursquare\n",
    "* Import the necessary libraries\n",
    "* Define the necessary functions for the API calls and data retrival\n",
    "* Retrieve and save the data in .csv format"
   ]
  },
  {
   "cell_type": "code",
   "execution_count": 115,
   "metadata": {
    "collapsed": false
   },
   "outputs": [],
   "source": [
    "from dotenv import load_dotenv\n",
    "import os\n",
    "import pandas as pd\n",
    "import requests"
   ]
  },
  {
   "cell_type": "code",
   "execution_count": 116,
   "metadata": {
    "collapsed": false
   },
   "outputs": [],
   "source": [
    "def get_api_key():\n",
    "    # Load environment variables from the .env file\n",
    "    load_dotenv()\n",
    "\n",
    "    # Get the API key from the environment variable\n",
    "    api_key = os.getenv('API_KEY')  # Fetch the API key\n",
    "\n",
    "    if api_key is None:\n",
    "        print(\"API key is missing in the .env file!\")\n",
    "        exit()\n",
    "    return api_key\n",
    "\n",
    "def convert_json_to_df(data):\n",
    "    if data:\n",
    "        flattened_data = []\n",
    "\n",
    "        # Check if 'results' key exists (Type 1 JSON structure)\n",
    "        if isinstance(data, dict) and 'results' in data:\n",
    "            places = data['results']\n",
    "        # Otherwise, assume it's a list (Type 2 JSON structure)\n",
    "        else:\n",
    "            places = data\n",
    "\n",
    "        # Iterate over each place in 'places' (works for both Type 1 and Type 2)\n",
    "        for place in places:\n",
    "            # Extract the required fields based on Type 1 or Type 2 structure\n",
    "            if 'fsq_id' in place:  # Type 1 (place has 'fsq_id' and 'categories')\n",
    "                place_data = {\n",
    "                    'fsq_id': place['fsq_id'],\n",
    "                    'name': place['name'],\n",
    "                    'address': place['location']['address'] if 'location' in place else None,\n",
    "                    'locality': place['location']['locality'] if 'location' in place else None,\n",
    "                    'country': place['location']['country'] if 'location' in place else None,\n",
    "                    'formatted_address': place['location']['formatted_address'] if 'location' in place else None,\n",
    "                    'latitude': place['geocodes']['main']['latitude'] if 'geocodes' in place else None,\n",
    "                    'longitude': place['geocodes']['main']['longitude'] if 'geocodes' in place else None,\n",
    "                    'distance': place['distance'] if 'distance' in place else None,\n",
    "                    'link': place['link'],\n",
    "                    'categories': [category['name'] for category in place['categories']]  # Extract category names\n",
    "                }\n",
    "            elif 'id' in place:  # Type 2 (place has 'id' and 'text')\n",
    "                place_data = {\n",
    "                    'id': place['id'],\n",
    "                    'created_at': place['created_at'],\n",
    "                    'text': place['text']\n",
    "                }\n",
    "            flattened_data.append(place_data)\n",
    "\n",
    "        # Convert the list of flattened data into a DataFrame\n",
    "        df = pd.DataFrame(flattened_data)\n",
    "        return df\n",
    "    else:\n",
    "        print(\"No data available to save.\")\n",
    "\n",
    "def convert_df_to_csv(df, filename):\n",
    "    # Save the DataFrame to CSV\n",
    "    df.to_csv(filename, index=False)\n",
    "    # print(\"CSV file has been saved as 'output.csv'\")\n",
    "\n",
    "def get_json_data_from_api(url, api_calls):\n",
    "    api_key = get_api_key()\n",
    "\n",
    "    headers = {\n",
    "        \"Accept\": \"application/json\",\n",
    "        \"Authorization\": api_key\n",
    "    }\n",
    "\n",
    "    # Make the GET request to the API\n",
    "    response = requests.get(url, headers=headers)\n",
    "\n",
    "    # Check if the request was successful\n",
    "    if response.status_code == 200:\n",
    "        data = response.json()  # Parse the JSON response\n",
    "        # print(data)\n",
    "    else:\n",
    "        print(f\"Error: {response.status_code}\")\n",
    "\n",
    "    api_calls[0] += 1\n",
    "    return data"
   ]
  },
  {
   "cell_type": "code",
   "execution_count": 119,
   "metadata": {
    "collapsed": false
   },
   "outputs": [
    {
     "name": "stdout",
     "output_type": "stream",
     "text": [
      "                     fsq_id                                   name  \\\n",
      "0  3fd66200f964a52053eb1ee3                       Soho Grand Hotel   \n",
      "1  54c0151d498e4c827296cd41  Hotel Indigo Lower East Side New York   \n",
      "2  4a0e0f85f964a520bf751fe3                     Ace Hotel New York   \n",
      "3  4adfb640f964a520e57c21e3        Lobby Bar at Ace Hotel New York   \n",
      "4  5ffdc960d85c9a288b3b391f                     Ace Hotel Brooklyn   \n",
      "\n",
      "               address  locality country  \\\n",
      "0       310 W Broadway  New York      US   \n",
      "1        171 Ludlow St  New York      US   \n",
      "2         20 W 29th St  New York      US   \n",
      "3        1186 Broadway  New York      US   \n",
      "4  252 Schermerhorn St  Brooklyn      US   \n",
      "\n",
      "                                               formatted_address   latitude  \\\n",
      "0                  310 W Broadway (Grand St), New York, NY 10013  40.722011   \n",
      "1  171 Ludlow St (btwn Houston & Stanton St), New York, NY 10002  40.721759   \n",
      "2                 20 W 29th St (at Broadway), New York, NY 10001  40.745702   \n",
      "3    1186 Broadway (btwn Broadway & 5th Ave), New York, NY 10001  40.745592   \n",
      "4           252 Schermerhorn St (at Bond St), Brooklyn, NY 11217  40.687843   \n",
      "\n",
      "   longitude  distance                                 link   categories  \\\n",
      "0 -74.004453       392  /v3/places/3fd66200f964a52053eb1ee3      [Hotel]   \n",
      "1 -73.987898      1751  /v3/places/54c0151d498e4c827296cd41      [Hotel]   \n",
      "2 -73.988226      3322  /v3/places/4a0e0f85f964a520bf751fe3      [Hotel]   \n",
      "3 -73.988310      3318  /v3/places/4adfb640f964a520e57c21e3  [Hotel Bar]   \n",
      "4 -73.983820      4151  /v3/places/5ffdc960d85c9a288b3b391f      [Hotel]   \n",
      "\n",
      "                                                                                                                                                                                                      tips  \n",
      "0  This is just a hip, lovely boutique hotel in downtown Manhattan that I love to stay in. Lounge is very chic and trendy and it's very conveniently located for both work and play., One of the greate...  \n",
      "1  My favorite in New York. Clean, comfortable and great service. In the middle of most happening LES. Avoid room just above 16F that is looking to the Purple. You won't be able to sleep in the weeke...  \n",
      "2  NYC: If you build it, they will come. No one thought a hangout at 29th and Broadway could be this popular, but now it's one of NYC's busiest hotel lobbies. -IFC Staff, There’s a vintage photo boot...  \n",
      "3  During the day, this is a great place to work. You can grab coffee from the Stumptown next door, find a seat anywhere in the lobby, and hop on the wifi., Sneaky great work spot. Long communal tabl...  \n",
      "4  A very beautiful space in an unexpected location. But, that's always been the case with Ace, hasn't it?, It’s a beautiful hotel. The bar and atrium area are perfect spots! Also the hotel aesthetic...  \n",
      "CSV file has been saved as 'output.csv'\n",
      "API calls made: 51\n"
     ]
    }
   ],
   "source": [
    "api_calls = [0]\n",
    "\n",
    "# Get the HOTELS in newyork near 124 Hudson Street in a radiues of 150 meters\n",
    "# url = \"https://api.foursquare.com/v3/places/search?query=hotel&ll=40.720276093678535%2C-74.00855578601094&radius=150\"\n",
    "url = \"https://api.foursquare.com/v3/places/search?query=hotel&ll=40.720276093678535%2C-74.00855578601094&limit=50\"\n",
    "data = get_json_data_from_api(url, api_calls)\n",
    "\n",
    "df = convert_json_to_df(data)\n",
    "\n",
    "#for each fsq_id value in the fsq_id column, make an API call to get the tips for that place\n",
    "# and then add the tips to the dataframe\n",
    "for fsq_id in df['fsq_id']:\n",
    "    url = f\"https://api.foursquare.com/v3/places/{fsq_id}/tips\"\n",
    "    tips = get_json_data_from_api(url, api_calls)\n",
    "\n",
    "    tips_text = [tip['text'] for tip in tips]  # Get the 'text' from each tip\n",
    "\n",
    "    # Assign the list of tip texts to the dataframe\n",
    "    df.loc[df['fsq_id'] == fsq_id, 'tips'] = ', '.join(tips_text)\n",
    "\n",
    "\n",
    "print(df.head())\n",
    "\n",
    "convert_df_to_csv(df, 'hotel_reviews_API.csv')\n",
    "print(\"CSV file has been saved as 'output.csv'\")\n",
    "print(\"API calls made:\", api_calls[0])"
   ]
  },
  {
   "cell_type": "markdown",
   "metadata": {
    "collapsed": false
   },
   "source": [
    "### Step 2: Get hotel data from KAYAK - Web Scraping\n",
    "* Import the necessary libraries\n",
    "* Define the necessary function for the Playwright and data retrival\n",
    "* Retrieve and save the data in .csv format"
   ]
  },
  {
   "cell_type": "code",
   "execution_count": 109,
   "metadata": {
    "collapsed": false
   },
   "outputs": [],
   "source": [
    "from playwright.sync_api import sync_playwright"
   ]
  },
  {
   "cell_type": "code",
   "execution_count": 110,
   "metadata": {
    "collapsed": false
   },
   "outputs": [],
   "source": [
    "def scrape_reviews_with_playwright(hotel_url):\n",
    "    reviews = []\n",
    "    with sync_playwright() as p:\n",
    "        browser = p.chromium.launch(headless=False)  # Set to False for debugging\n",
    "        context = browser.new_context()\n",
    "        page = context.new_page()\n",
    "\n",
    "        # Navigate to the hotel details page\n",
    "        page.goto(hotel_url)\n",
    "\n",
    "        try:\n",
    "            # Accept cookies if the cookie banner is present\n",
    "            if page.locator(\"button:has-text('Accetta')\").is_visible():\n",
    "                page.locator(\"button:has-text('Accetta')\").click()\n",
    "                print(\"Cookies accepted.\")\n",
    "\n",
    "            # Wait for the reviews section to load\n",
    "            page.wait_for_selector(\".acD_-reviews-row-header\", timeout=30000)\n",
    "\n",
    "            # Locate review containers\n",
    "            review_elements = page.query_selector_all(\".acD_\")\n",
    "\n",
    "            for review in review_elements:\n",
    "                try:\n",
    "                    # Extract rating\n",
    "                    rating = review.query_selector(\".wdjx-positive\").inner_text().strip() if review.query_selector(\".wdjx-positive\") else None\n",
    "                    # Extract score description\n",
    "                    score_description = review.query_selector(\".acD_-score-description\").inner_text().strip() if review.query_selector(\".acD_-score-description\") else None\n",
    "                    # Extract user name and date\n",
    "                    user_name_date = review.query_selector(\".acD_-userName\").inner_text().strip() if review.query_selector(\".acD_-userName\") else None\n",
    "                    # Extract pros/advantages\n",
    "                    pros = review.query_selector(\".acD_-pros\").inner_text().strip() if review.query_selector(\".acD_-pros\") else None\n",
    "                    # Extract the full review text\n",
    "                    full_review = review.query_selector(\"span[id^='showMoreText']\").inner_text().strip() if review.query_selector(\"span[id^='showMoreText']\") else None\n",
    "\n",
    "                    # Append review data\n",
    "                    reviews.append({\n",
    "                        'Rating': rating,\n",
    "                        'Score Description': score_description,\n",
    "                        'User': user_name_date,\n",
    "                        'Pros': pros,\n",
    "                        'Full Review': full_review\n",
    "                    })\n",
    "                except Exception as e:\n",
    "                    print(f\"Error processing review: {e}\")\n",
    "\n",
    "        except Exception as e:\n",
    "            print(f\"Error loading reviews: {e}\")\n",
    "        finally:\n",
    "            browser.close()\n",
    "\n",
    "    return reviews"
   ]
  },
  {
   "cell_type": "code",
   "execution_count": 111,
   "metadata": {},
   "outputs": [],
   "source": [
    "import nest_asyncio\n",
    "import asyncio\n",
    "import atexit\n",
    "from playwright.async_api import async_playwright\n",
    "\n",
    "# Allow nested event loops\n",
    "nest_asyncio.apply()\n",
    "\n",
    "async def scrape_reviews_with_playwright_async(hotel_url):\n",
    "    reviews = []\n",
    "\n",
    "    pw = await async_playwright().start()\n",
    "    browser = await pw.chromium.launch(headless=False)  # Set to False for debugging\n",
    "    page = await browser.new_page()\n",
    "\n",
    "    # All methods are async (use the \"await\" keyword)\n",
    "    # Navigate to the hotel details page\n",
    "    await page.goto(hotel_url)\n",
    "\n",
    "    try:\n",
    "        # Accept cookies if the cookie banner is present\n",
    "        if await page.locator(\"button:has-text('Accetta')\").is_visible():\n",
    "            await page.locator(\"button:has-text('Accetta')\").click()\n",
    "            print(\"Cookies accepted.\")\n",
    "\n",
    "        # Wait for the reviews section to load\n",
    "        await page.wait_for_selector(\".acD_-reviews-row-header\", timeout=30000)\n",
    "\n",
    "        # Locate review containers\n",
    "        review_elements = await page.query_selector_all(\".acD_\")\n",
    "\n",
    "        for review in review_elements:\n",
    "            try:\n",
    "                # Extract rating\n",
    "                rating_element = await review.query_selector(\".wdjx-positive\")\n",
    "                rating = (await rating_element.inner_text()).strip() if rating_element else None\n",
    "                # Extract score description\n",
    "                score_description_element = await review.query_selector(\".acD_-score-description\")\n",
    "                score_description = (await score_description_element.inner_text()).strip() if score_description_element else None\n",
    "                # Extract user name and date\n",
    "                user_name_date_element = await review.query_selector(\".acD_-userName\")\n",
    "                user_name_date = (await user_name_date_element.inner_text()).strip() if user_name_date_element else None\n",
    "                # Extract pros/advantages\n",
    "                pros_element = await review.query_selector(\".acD_-pros\")\n",
    "                pros = (await pros_element.inner_text()).strip() if pros_element else None\n",
    "                # Extract the full review text\n",
    "                full_review_element = await review.query_selector(\"span[id^='showMoreText']\")\n",
    "                full_review = (await full_review_element.inner_text()).strip() if full_review_element else None\n",
    "\n",
    "                # Append review data\n",
    "                reviews.append({\n",
    "                    'Rating': rating,\n",
    "                    'Score Description': score_description,\n",
    "                    'User': user_name_date,\n",
    "                    'Pros': pros,\n",
    "                    'Full Review': full_review\n",
    "                })\n",
    "            except Exception as e:\n",
    "                print(f\"Error processing review: {e}\")\n",
    "\n",
    "    except Exception as e:\n",
    "        print(f\"Error loading reviews: {e}\")\n",
    "    finally:\n",
    "        await browser.close()\n",
    "\n",
    "    # Function to close browser and stop Playwright\n",
    "    async def shutdown_playwright():\n",
    "        await browser.close()\n",
    "        await pw.stop()\n",
    "\n",
    "    # Register shutdown hook for when the program exits\n",
    "    atexit.register(lambda: asyncio.run(shutdown_playwright()))\n",
    "\n",
    "    return reviews\n",
    "\n",
    "# Run the async main function\n",
    "# await scrape_reviews_with_playwright_2()  # Use await directly instead of asyncio.run()"
   ]
  },
  {
   "cell_type": "code",
   "execution_count": 112,
   "metadata": {
    "collapsed": false
   },
   "outputs": [
    {
     "name": "stdout",
     "output_type": "stream",
     "text": [
      "Scraping reviews for the hotel...\n",
      "Reviews saved to hotel_reviews_webscraping.csv.\n"
     ]
    }
   ],
   "source": [
    "hotel_url = \"https://www.kayak.it/hotels/InterContinental-New-York-Barclay,New-York-p59560-h14931-details\"\n",
    "print(\"Scraping reviews for the hotel...\")\n",
    "reviews_data = await scrape_reviews_with_playwright_async(hotel_url)\n",
    "\n",
    "# Save reviews to CSV\n",
    "if reviews_data:\n",
    "    reviews_df = pd.DataFrame(reviews_data)\n",
    "    reviews_df.to_csv(\"hotel_reviews_webscraping.csv\", index=False)\n",
    "    print(\"Reviews saved to hotel_reviews_webscraping.csv.\")\n",
    "else:\n",
    "    print(\"No reviews found.\")"
   ]
  },
  {
   "cell_type": "markdown",
   "metadata": {
    "collapsed": false
   },
   "source": [
    "### Step 3: Visualize a data preview"
   ]
  },
  {
   "cell_type": "code",
   "execution_count": 113,
   "metadata": {
    "collapsed": false
   },
   "outputs": [
    {
     "name": "stdout",
     "output_type": "stream",
     "text": [
      "Dataframe preview:\n",
      "+----+--------------------------+---------------------------------------+---------------------+------------+-----------+---------------------------------------------------------------+------------+-------------+------------+-------------------------------------+---------------------+------------------------------------------------------------------------------------------------------------------------------------------------------------------------------------------------------------------------------------------------------------------------------------------------------------------------------------------------------------------------------------------------------------------------------------------------------------------------------------------------------------------------------------------------------------------------------------------------------------------------------------------------------------------------------------------------------------------------------------------------------------------------------------------------------------------------------------------------------------------------------------------------------------------------------------------------------------------------------------------------------------------------------------------------------------------------------------------------------------------------------------------------------------------------------------------------------------------------------------------------------------------------------------------------------------------------------------------------------------------------------------------------------------------------------------------------------------------------------------------------------------------------------------------------------------------------------------------------------------------------------------------------------------------------------------------------------------------------------------------------------------------------------------------------------------------------------------------------------------------------------------------------------------------------------------------------+\n",
      "|    | fsq_id                   | name                                  | address             | locality   | country   | formatted_address                                             |   latitude |   longitude |   distance | link                                | categories          | tips                                                                                                                                                                                                                                                                                                                                                                                                                                                                                                                                                                                                                                                                                                                                                                                                                                                                                                                                                                                                                                                                                                                                                                                                                                                                                                                                                                                                                                                                                                                                                                                                                                                                                                                                                                                                                                                                                                                                           |\n",
      "|----+--------------------------+---------------------------------------+---------------------+------------+-----------+---------------------------------------------------------------+------------+-------------+------------+-------------------------------------+---------------------+------------------------------------------------------------------------------------------------------------------------------------------------------------------------------------------------------------------------------------------------------------------------------------------------------------------------------------------------------------------------------------------------------------------------------------------------------------------------------------------------------------------------------------------------------------------------------------------------------------------------------------------------------------------------------------------------------------------------------------------------------------------------------------------------------------------------------------------------------------------------------------------------------------------------------------------------------------------------------------------------------------------------------------------------------------------------------------------------------------------------------------------------------------------------------------------------------------------------------------------------------------------------------------------------------------------------------------------------------------------------------------------------------------------------------------------------------------------------------------------------------------------------------------------------------------------------------------------------------------------------------------------------------------------------------------------------------------------------------------------------------------------------------------------------------------------------------------------------------------------------------------------------------------------------------------------------|\n",
      "|  0 | 3fd66200f964a52053eb1ee3 | Soho Grand Hotel                      | 310 W Broadway      | New York   | US        | 310 W Broadway (Grand St), New York, NY 10013                 |    40.722  |    -74.0045 |        392 | /v3/places/3fd66200f964a52053eb1ee3 | ['Hotel']           | This is just a hip, lovely boutique hotel in downtown Manhattan that I love to stay in. Lounge is very chic and trendy and it's very conveniently located for both work and play., One of the greatest boutique hotels! Walking distance to some of the finest restaurants SoHo has to offer. See a great live show at one of the concert venues nearby like the Bowery Ballroom., 3 min walking distance to Soho hub- Prince St pizza, unique Elizabeth St shops, and hot spot restaurants. Rooms are really unique: exposed brick, lots of window views, clean, and modern updates, 1st family trip to NYC. Sohotel was perfect for our stay! Free Wifi, hot shower, clean room, friendly staff & comfy beds! No elevator? No problem! Staff will help w/ bags! Subway is close as well!, Second floor lounge and restaurant is a comfortable spot for a business meeting or lunch. Perfect balance of bustling but low-volume / spread out enough to hold a conversation., The 352-roomer's past-meets-present design is meant to intertwine the historic grandeur of the 1870s with the more mod stylings of the 1970s. It's also pet-friendly, with sculptures of canines., Loved my stay here, rooms and lobby are very quirky. The hot chocolate at the bar is the best I've ever had in my life you are missing out getting a cocktail over that cup of heaven., Luxurious and beautifully decorated rooms, great service, and awesome cocktails at the bar downstairs - what more do you need in a hotel?, Very good hotel with low budget... I like style of this hotel. Quite small room but there are many fabulous things inside... nice soft bed, good shampoo and bath, free water and big TV..., Fresh dvd collection as of Jan'15, but they take a $30 deposit as they lose so many, and if you borrow one for you last night, the deposit will be on the express checkout bill, so bear in mind!                             |\n",
      "|  1 | 54c0151d498e4c827296cd41 | Hotel Indigo Lower East Side New York | 171 Ludlow St       | New York   | US        | 171 Ludlow St (btwn Houston & Stanton St), New York, NY 10002 |    40.7218 |    -73.9879 |       1751 | /v3/places/54c0151d498e4c827296cd41 | ['Hotel']           | My favorite in New York. Clean, comfortable and great service. In the middle of most happening LES. Avoid room just above 16F that is looking to the Purple. You won't be able to sleep in the weekend., Modern, artsy hotel with a great lobby view of lower manhattan. Their lobby is also a great place to work. The rooms are a decent size for NYC. Grab a coffee and breakfast at El Rey around the corner!, Small rooms, but great location and views if you're on the higher floors! The rooftop bar (Mr. Purple) is of course a must visit, if just for the views., Very good value for money. Local neighbourhood on the LES. New, hip, design. King room on the third floor has a private terrace., Cozy, trendy hotel with a rooftop bar. Rooms are on the slightly smaller side with no fridges or microwaves but worth it for the location and views. Lots of restaurants nearby., Great lobby area to hang in or chill and work with WiFi. Stunning views of downtown., If you're booking a stay because of the rooftop pool, call andmake sure it's open. It's closed for some months/seasons. Wish I knew before I booked. Didn't get to use it at all. (Stayed in early Oct.), Lobby is on 15th floor- the guy on 1st can only help with luggage and sometime is the bouncer for the nightclub. Sometimes you get a welcome gift after you’ve settled in., Spacious rooms in a great location, All rooms are comfortable. Deluxe rooms have the views and a fair bit more space. Great roof bar.                                                                                                                                                                                                                                                                                                                                                                                                                             |\n",
      "|  2 | 4a0e0f85f964a520bf751fe3 | Ace Hotel New York                    | 20 W 29th St        | New York   | US        | 20 W 29th St (at Broadway), New York, NY 10001                |    40.7457 |    -73.9882 |       3322 | /v3/places/4a0e0f85f964a520bf751fe3 | ['Hotel']           | NYC: If you build it, they will come. No one thought a hangout at 29th and Broadway could be this popular, but now it's one of NYC's busiest hotel lobbies. -IFC Staff, There’s a vintage photo booth in the lobby, a huge Civil War American flag over the small bar and massive white pillars rimmed with retro police station bulbs., One of our favorite boutique NYC hotels. If you're a guest, the options for amazing food at the hotel are endless: The Breslin, No. 7 Sub, and John Dory Oyster Bar, plus Stumptown Coffee., Adorable hotel with awesome vibe and a comfy bed. Room was little warm but the shower was heaven!! Definitely recommend staying here and will be back. BONUS Stumptown coffee AND Le Labo next door!, I love staying here. It's a nice hotel with nice amenities and great service, just differently flavored than how your parents would define that. Except actually, my mom loves it. Tip tho$e bellhops!, Edgy boutique hotel with a great bar/lobby area plus food choices (Breslin, Stumptown Roasters coffee) which you can also get as room service. Similar to the Hoxton or Standard hotels., the ace hotel photo booth never disappoints. one of the coziest and sexiest spots in the city. go here often. for coffee, drinks, dinner at the breslin, or great conversation., Wake up early and enjoy the more chill side of ACE - a little Stumptown, great vibe, smart and casual - ps - tip your severs & baristas well - they love their customers, so love them back!!, One of the best coffee spots in the city- in the summer get the iced coffee with soy milk- and their croissants are simply delectable! Perfect on the go breakfast., What a cool lobby; funky; very rock and roll; love that anyone can just stop in to hang (seating permitted). There is a bevy of great adjoining restaurants and a cool lobby bar. And a photo booth!                                        |\n",
      "|  3 | 4adfb640f964a520e57c21e3 | Lobby Bar at Ace Hotel New York       | 1186 Broadway       | New York   | US        | 1186 Broadway (btwn Broadway & 5th Ave), New York, NY 10001   |    40.7456 |    -73.9883 |       3318 | /v3/places/4adfb640f964a520e57c21e3 | ['Hotel Bar']       | During the day, this is a great place to work. You can grab coffee from the Stumptown next door, find a seat anywhere in the lobby, and hop on the wifi., Sneaky great work spot. Long communal table with power and wifi. Stumptown and beers on tap. Breslin food + waiter service. Jams and rustic lighting that'll make you feel cool typing on your MacBook., Great work spot, if you get a seat at the community table. Fast WiFi but you need a code to access, just ask any server. Oh and bring a long sleeve, it gets cold. (3 of 4 petals via Fondu), I'm a huge fan of Ace Hotels. Love the atmospheres and hidden gems in all their locations. This space has great cocktails and even a photobooth. Hard to find a seat but if you do, stay all night., Simply find a spot in the lobby, grab a menu & order at the bar. Recommend the beef, cheddar & bacon burger with thrice cooked fries. It's great and more manageable than the lamb one at the Breslin., Great atmosphere for working/studying. Good music, comfortable seating area (chairs and tables or couches and armchairs). Free wifi, great hot chocolate next door at Stumptown 👌🏻, This place gets crowded, but you'll be freelancing in style in the lobby bar's sexy, spacious lounge. Enjoy free wifi, copious outlets, noms, and the freedom to choose between coffee or alcohol., Go Sunday evenings when it's chill and you can actually get a seat. There's usually live music around 9 or 10. It's my favorite way to unwind from a weekend., Great ambience and very big tables to work with your laptop. Free Wifi, you just have to ask someone because there is a new pass every day. They give little white square cards with the pass., one of the coolest chilled hotel lobby spots, with old period furniture mixed with modern decor, always busy, a fun place to people watch and drink, check out the photo booth and cool super graphics! |\n",
      "|  4 | 5ffdc960d85c9a288b3b391f | Ace Hotel Brooklyn                    | 252 Schermerhorn St | Brooklyn   | US        | 252 Schermerhorn St (at Bond St), Brooklyn, NY 11217          |    40.6878 |    -73.9838 |       4151 | /v3/places/5ffdc960d85c9a288b3b391f | ['Hotel']           | A very beautiful space in an unexpected location. But, that's always been the case with Ace, hasn't it?, It’s a beautiful hotel. The bar and atrium area are perfect spots! Also the hotel aesthetic is amazing., A beautiful property that follows Japanese esthetics., Medium skyline. Do it., Disgusting AC filters. Try not to get sick, Had me waiting 20 minutes for the room. Afterwards reception says extra 30-60 minutes, and “I can’t take check in before 3pm for granted”. Got to the room and my coworker was there! What!?                                                                                                                                                                                                                                                                                                                                                                                                                                                                                                                                                                                                                                                                                                                                                                                                                                                                                                                                                                                                                                                                                                                                                                                                                                                                                                                                                                                                      |\n",
      "|  5 | 548f8080498e9d2768950ca4 | Hotel Indigo Newark Downtown          | 810 Broad St        | Newark     | US        | 810 Broad St, Newark, NJ 07102                                |    40.7348 |    -74.1724 |      13887 | /v3/places/548f8080498e9d2768950ca4 | ['Vacation Rental'] | Bumped up to a suite and two free drink tickets!  Very nice staff.  Room was lovely., Nice size room, with great decor. Keurig in the room for my coffee. Only wish the bathroom had a fan., Best place to pregame!, Great hotel                                                                                                                                                                                                                                                                                                                                                                                                                                                                                                                                                                                                                                                                                                                                                                                                                                                                                                                                                                                                                                                                                                                                                                                                                                                                                                                                                                                                                                                                                                                                                                                                                                                                                                               |\n",
      "|  6 | 4ab6c985f964a5200a7920e3 | The Greenwich Hotel                   | 377 Greenwich St    | New York   | US        | 377 Greenwich St (N. Moore), New York, NY 10013               |    40.7199 |    -74.01   |        125 | /v3/places/4ab6c985f964a5200a7920e3 | ['Hotel']           | This Robert de Niro-owned boutique hotel has great service, great food (be sure to check out Locanda Verde), and great beds. What more could we want in a hotel?, For the love of this iconic hotel’s outdoor seating area🤍 an oasis in the middle of the city, everything in this place is old-school New York and that’s what makes it a must visit🤍 coffee’s great., Don’t miss an Asian-inspired treatment at the hotel's Shibui Spa, which features a pool canopied by 250-year-old beams from a Japanese farmhouse., Relax in the drawing room for breakfast, lunch or dinner. Great people watching and a lovely setting. Try the homemade sheep's milk ricotta., Beautiful rooms, a calm subterranean pool, and a great hotel bar. Grab a drink and a spot near the fireplace, and look out for familiar faces., Hidden away in tony Tribeca, the Greenwich features a subtler take on this luxury, as Drukier and co-owner Robert De Niro seem to want to impress at every turn., My fave hotel in NYC. Impeccable service.Quietly distinct. The meals in the lounge are divine. Say hi to Tom from the Canucks Lynne & Michael. He's a great guy~ you will love the hotel !!, Mysterious hotel, mysterious underground pool. Breakfast in a beautiful sun-lit courtyard. What not to like?!, [Hotel] There are 88 rooms, but still feels like a small and exclusive private club. Impeccable decor, pro service and an oasis-like courtyard. Co-owned by Robert De Niro. Double rooms start at $550., Robert De Niro is an owner of this hotel, & he's occasionally clashed with the city's Landmarks Preservation Commission over the penthouse he added. Each of the 88 rooms has different furnishings.                                                                                                                                                                                                                         |\n",
      "|  7 | 57c640ad498e74977f98372f | Four Seasons Hotel New York Downtown  | 27 Barclay St       | New York   | US        | 27 Barclay St (Broadway), New York, NY 10007                  |    40.7126 |    -74.009  |        854 | /v3/places/57c640ad498e74977f98372f | ['Spa', 'Hotel']    | Quiet rooms. Perfect oasis in the city. Great location with easy access to airports, TriBeCa dining, all of lower Manhattan, transit, and Brooklyn. My go to., Beautiful hotel! Great drinks at Wolfgang's bar. Modern luxury at its finest., My fav hotel in New York! Rooms are stunning, The best hotel and service in New York!, Average hotel with nothing special at all.                                                                                                                                                                                                                                                                                                                                                                                                                                                                                                                                                                                                                                                                                                                                                                                                                                                                                                                                                                                                                                                                                                                                                                                                                                                                                                                                                                                                                                                                                                                                                                |\n",
      "|  8 | 56d8c0f8498edb854f926e6a | The Beekman, A Thompson Hotel         | 123 Nassau St       | New York   | US        | 123 Nassau St (Beekman St), New York, NY 10038                |    40.7111 |    -74.0069 |       1023 | /v3/places/56d8c0f8498edb854f926e6a | ['Hotel', 'Resort'] | Amazingly good looking hotel. The restaurant view is great. I love it!, Our favorite stay in NY. Beautiful design and friendly service. Greatly communicated. The lobby bar is buzzing with life every day of the week. There are several speciality coffee shops around too., OMG gorgeous!!  Absolutely stunning new hotel. Great spot for drinks and new French spot Augustine opens nov 1, Excellent hotel, probably the best of dozens and dozens of Manhattan hotels we have stayed at. Budget-friendly. 2 very good restaurants, Augistine by Chef Markus Glocker and Temple Court., Gorgeous hotel, recently renovated and reopened after being closed for fifty years. Highly recommend the Eugene Kelly and James M. Farnsworth cocktails!, Really cool design especially the bar / restaurant area. There is also a hidden bar in the basement if you follow the black cat 🙊, Excellent hotel, probably the best of dozens and dozens of Manhattan hotels we have stayed at. Budget-friendly. 2 great restaurants, Augistine by Chef Markus Glocker and Temple Court., Excellent hotel, the best of dozens and dozens of Manhattan hotels we have stayed at. Budget-friendly. 2 great restaurants, Augistine by Chef Markus Glocker and Temple Court., gorgeous establishment with a robust history. make sure to view the expansive library and open lounge area., Excellent hotel with gorgeous lobby. Get a drink at the bar and soak in the view.                                                                                                                                                                                                                                                                                                                                                                                                                                                                              |\n",
      "|  9 | 4ac7e4a7f964a52065ba20e3 | New Crosby Street Hotel               | 79 Crosby St        | New York   | US        | 79 Crosby St (btwn Prince & Spring St), New York, NY 10012    |    40.7231 |    -73.9973 |        983 | /v3/places/4ac7e4a7f964a52065ba20e3 | ['Hotel']           | Crosby Street is an elegant boutique hotel with charming English touches and wonderful decor, a perfect balance of modern and quaint, artistic and cozy. My place for a quality Sunday afternoon tea, This cute boutique hotel offers great service, comfy beds, and a beautiful guests-only courtyard. Be sure to go to the Crosby Bar for cocktails, or go to the private screening room to watch a movie., the drawing room is one of my favorite quiet spaces in the neighborhood. it's great for a catchup over tea or drinks. if it's nice out, you can also pop into the inner courtyard., Crosby Street Hotel has an outdoor sculpture garden, all-day afternoon tea service with cakes and sandwiches in the bar and a 100-seat screening room with a Sunday Night Film Club open to all., Get some work done in the lobby of the Crosby Street Hotel over afternoon tea. Life is literally meaningless without afternoon tea. This spot does one of the best in the city., The hotel allows you to look around. Take advantage. Lots of boho chic design. Be sure to check out the back dining garden! A must see NYC hotel., Get an Empire Fizz (gin, Earl Grey syrup, egg white, Angostura bitters, lemon juice and club soda) in the sun-drenched garden., You don't have to be a hotel guest to sink into a leather seat in the screening room and enjoy dinner and a movie every Sunday night ($50 per person; $30 per person for just a cocktail and snacks)., Get drinks on the patio. Mulberry mule is a good soft drink alternative., 1. Private screening room downstairs is the must for film connoisseurs 2. English tea is very very good 3. Drawing room on the right is quite an experience for rainy afternoons                                                                                                                                                                                                      |\n",
      "+----+--------------------------+---------------------------------------+---------------------+------------+-----------+---------------------------------------------------------------+------------+-------------+------------+-------------------------------------+---------------------+------------------------------------------------------------------------------------------------------------------------------------------------------------------------------------------------------------------------------------------------------------------------------------------------------------------------------------------------------------------------------------------------------------------------------------------------------------------------------------------------------------------------------------------------------------------------------------------------------------------------------------------------------------------------------------------------------------------------------------------------------------------------------------------------------------------------------------------------------------------------------------------------------------------------------------------------------------------------------------------------------------------------------------------------------------------------------------------------------------------------------------------------------------------------------------------------------------------------------------------------------------------------------------------------------------------------------------------------------------------------------------------------------------------------------------------------------------------------------------------------------------------------------------------------------------------------------------------------------------------------------------------------------------------------------------------------------------------------------------------------------------------------------------------------------------------------------------------------------------------------------------------------------------------------------------------------+\n",
      "Dataframe preview:\n",
      "+----+----------+---------------------+---------------------+------------------------------------------------------------------------------------------------------------------------------------------------------------------------------------------------------------------------------------------------------------------------------------------------------------------------------------------------------------------------------------------------------------------------------+---------------------------------------------------------------------------------------------------------------------------------------------------------------------------------------------------------------------------------------------------------------------------------------------------------------------------------------------------------------------------------------------------------------------+\n",
      "|    |   Rating | Score Description   | User                | Pros                                                                                                                                                                                                                                                                                                                                                                                                                         | Full Review                                                                                                                                                                                                                                                                                                                                                                                                         |\n",
      "|----+----------+---------------------+---------------------+------------------------------------------------------------------------------------------------------------------------------------------------------------------------------------------------------------------------------------------------------------------------------------------------------------------------------------------------------------------------------------------------------------------------------+---------------------------------------------------------------------------------------------------------------------------------------------------------------------------------------------------------------------------------------------------------------------------------------------------------------------------------------------------------------------------------------------------------------------|\n",
      "|  0 |        8 | Molto buono         | Cristina, set 2024  | Vantaggi (+) Struttura storica e simbolica della città. Hall molto bella ed ampia con bellissimo bar circolare dove poter gustare un cocktail. Camera storica abbastanza spaziosa con tutti i comfort disponibili. Colazione a buffet disponibile in struttura, non possiamo darne un giudizio in quanto non ne abbiamo usufruito. Posizione centrale a 3 minuti a piedi da Grand Central e circa 10 minuti da Times Square. | Struttura storica e simbolica della città. Hall molto bella ed ampia con bellissimo bar circolare dove poter gustare un cocktail. Camera storica abbastanza spaziosa con tutti i comfort disponibili. Colazione a buffet disponibile in struttura, non possiamo darne un giudizio in quanto non ne abbiamo usufruito. Posizione centrale a 3 minuti a piedi da Grand Central e circa 10 minuti da Times Square.     |\n",
      "|  1 |       10 | Meraviglioso        | Marcello, lug 2024  | Vantaggi (+) struttura molto bella!                                                                                                                                                                                                                                                                                                                                                                                          | struttura molto bella!                                                                                                                                                                                                                                                                                                                                                                                              |\n",
      "|  2 |        9 | Meraviglioso        | Flavio, apr 2024    | Vantaggi (+) Ampiezza delle stanze e dei locali comuni. Pulizia quotidiana effettuata con estrema attenzione e cura. Ottima posizione fuori dal caos.                                                                                                                                                                                                                                                                        | Ampiezza delle stanze e dei locali comuni. Pulizia quotidiana effettuata con estrema attenzione e cura. Ottima posizione fuori dal caos.                                                                                                                                                                                                                                                                            |\n",
      "|  3 |      nan | Mediocre            | Angiolino, gen 2024 | Vantaggi (+) Posizione e pulizia                                                                                                                                                                                                                                                                                                                                                                                             | Posizione e pulizia                                                                                                                                                                                                                                                                                                                                                                                                 |\n",
      "|  4 |      nan | Scarso              | Enrico, nov 2023    | nan                                                                                                                                                                                                                                                                                                                                                                                                                          | Customer service inesistente. L’app concierge è’ una presa in giro e l’hotel non fa nulla per soddisfare il cliente anche se non prevede alcun extra costo per la struttura                                                                                                                                                                                                                                         |\n",
      "|  5 |        8 | Molto buono         | Matteo, lug 2023    | Vantaggi (+) Posizione ottima nel cuore di Manhattan ma in una strada tranquilla non affollata. Palazzo storico e camere arredate in stile. Letto ultra comodo e prodotti per il bagno di Byredo.                                                                                                                                                                                                                            | Posizione ottima nel cuore di Manhattan ma in una strada tranquilla non affollata. Palazzo storico e camere arredate in stile. Letto ultra comodo e prodotti per il bagno di Byredo.                                                                                                                                                                                                                                |\n",
      "|  6 |      nan | Buono               | Anonimo, giu 2023   | nan                                                                                                                                                                                                                                                                                                                                                                                                                          | OTTIMO HOTEL, FORSE UN PO' MENO LE PULIZIE. ARRIVARE E TROVARE IL COPERCHIO DEL WATER SPORCO.... MA SPORCO.....(!!) NON E' STATO UN IMPATTO GRADEVOLE PER UN HOTEL 5*. ALTRO APPUNTO: LA MACCHINA DEL CAFFE' NON FUNZIONAVA BENE. PER IL RESTO TUTTI GENTILI, PRODIGHI DI CORTESIA E SEMPRE PRONTI AD AIUTARE. HOTEL MOLTO COMODO, E DOTATO DI TUTTI I COMFORT NECESSARI PER UN TO STAY DI QUALITA'. FORSE UN PO... |\n",
      "|  7 |        9 | Meraviglioso        | Rivolta, gen 2023   | Vantaggi (+) Breakfast Servizio da parte del personale                                                                                                                                                                                                                                                                                                                                                                       | Breakfast Servizio da parte del personale                                                                                                                                                                                                                                                                                                                                                                           |\n",
      "|  8 |      nan | Carino              | Cristiano, nov 2022 | Vantaggi (+) La posizione                                                                                                                                                                                                                                                                                                                                                                                                    | La posizione                                                                                                                                                                                                                                                                                                                                                                                                        |\n",
      "|  9 |      nan | Buono               | Maurizio, set 2022  | Vantaggi (+) Posizione                                                                                                                                                                                                                                                                                                                                                                                                       | Posizione                                                                                                                                                                                                                                                                                                                                                                                                           |\n",
      "+----+----------+---------------------+---------------------+------------------------------------------------------------------------------------------------------------------------------------------------------------------------------------------------------------------------------------------------------------------------------------------------------------------------------------------------------------------------------------------------------------------------------+---------------------------------------------------------------------------------------------------------------------------------------------------------------------------------------------------------------------------------------------------------------------------------------------------------------------------------------------------------------------------------------------------------------------+\n"
     ]
    }
   ],
   "source": [
    "from tabulate import tabulate\n",
    "def display_data_preview(filename):\n",
    "    pd.set_option('display.max_columns', 200)\n",
    "    pd.set_option('display.max_rows', 200)\n",
    "    pd.set_option('display.max_colwidth', 200)\n",
    "\n",
    "    # Load the CSV file into a DataFrame\n",
    "    df = pd.read_csv(filename)\n",
    "\n",
    "    print(\"Dataframe preview:\")\n",
    "    print(tabulate(df, headers='keys', tablefmt='psql'))\n",
    "\n",
    "display_data_preview('hotel_reviews_API.csv')\n",
    "display_data_preview('hotel_reviews_webscraping.csv')"
   ]
  }
 ],
 "metadata": {
  "kernelspec": {
   "display_name": "base",
   "language": "python",
   "name": "python3"
  },
  "language_info": {
   "codemirror_mode": {
    "name": "ipython",
    "version": 3
   },
   "file_extension": ".py",
   "mimetype": "text/x-python",
   "name": "python",
   "nbconvert_exporter": "python",
   "pygments_lexer": "ipython3",
   "version": "3.11.8"
  }
 },
 "nbformat": 4,
 "nbformat_minor": 2
}
