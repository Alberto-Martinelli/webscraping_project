{
 "cells": [
  {
   "cell_type": "markdown",
   "source": [
    "## Webscraping and Applied ML - Project\n",
    "_Authors_: Alessia SARRITZU, Alberto MARTINELLI"
   ],
   "metadata": {
    "collapsed": false
   }
  },
  {
   "cell_type": "markdown",
   "source": [
    "### Step 1: Get hotel data from Foursquare\n",
    "* Import the necessary libraries\n",
    "* Define the necessary functions for the API calls and data retrival\n",
    "* Retrieve and save the data in .csv format"
   ],
   "metadata": {
    "collapsed": false
   }
  },
  {
   "cell_type": "code",
   "execution_count": null,
   "outputs": [],
   "source": [
    "from dotenv import load_dotenv\n",
    "import os\n",
    "import pandas as pd\n",
    "import requests"
   ],
   "metadata": {
    "collapsed": false
   }
  },
  {
   "cell_type": "code",
   "execution_count": null,
   "outputs": [],
   "source": [
    "def get_api_key():\n",
    "    # Load environment variables from the .env file\n",
    "    load_dotenv()\n",
    "\n",
    "    # Get the API key from the environment variable\n",
    "    api_key = os.getenv('API_KEY')  # Fetch the API key\n",
    "\n",
    "    if api_key is None:\n",
    "        print(\"API key is missing in the .env file!\")\n",
    "        exit()\n",
    "    return api_key\n",
    "\n",
    "def convert_json_to_df(data):\n",
    "    if data:\n",
    "        flattened_data = []\n",
    "\n",
    "        # Check if 'results' key exists (Type 1 JSON structure)\n",
    "        if isinstance(data, dict) and 'results' in data:\n",
    "            places = data['results']\n",
    "        # Otherwise, assume it's a list (Type 2 JSON structure)\n",
    "        else:\n",
    "            places = data\n",
    "\n",
    "        # Iterate over each place in 'places' (works for both Type 1 and Type 2)\n",
    "        for place in places:\n",
    "            # Extract the required fields based on Type 1 or Type 2 structure\n",
    "            if 'fsq_id' in place:  # Type 1 (place has 'fsq_id' and 'categories')\n",
    "                place_data = {\n",
    "                    'fsq_id': place['fsq_id'],\n",
    "                    'name': place['name'],\n",
    "                    'address': place['location']['address'] if 'location' in place else None,\n",
    "                    'locality': place['location']['locality'] if 'location' in place else None,\n",
    "                    'country': place['location']['country'] if 'location' in place else None,\n",
    "                    'formatted_address': place['location']['formatted_address'] if 'location' in place else None,\n",
    "                    'latitude': place['geocodes']['main']['latitude'] if 'geocodes' in place else None,\n",
    "                    'longitude': place['geocodes']['main']['longitude'] if 'geocodes' in place else None,\n",
    "                    'distance': place['distance'] if 'distance' in place else None,\n",
    "                    'link': place['link'],\n",
    "                    'categories': [category['name'] for category in place['categories']]  # Extract category names\n",
    "                }\n",
    "            elif 'id' in place:  # Type 2 (place has 'id' and 'text')\n",
    "                place_data = {\n",
    "                    'id': place['id'],\n",
    "                    'created_at': place['created_at'],\n",
    "                    'text': place['text']\n",
    "                }\n",
    "            flattened_data.append(place_data)\n",
    "\n",
    "        # Convert the list of flattened data into a DataFrame\n",
    "        df = pd.DataFrame(flattened_data)\n",
    "        return df\n",
    "    else:\n",
    "        print(\"No data available to save.\")\n",
    "\n",
    "def convert_df_to_csv(df, filename):\n",
    "    # Save the DataFrame to CSV\n",
    "    df.to_csv(filename, index=False)\n",
    "    # print(\"CSV file has been saved as 'output.csv'\")\n",
    "\n",
    "def get_json_data_from_api(url, api_calls):\n",
    "    api_key = get_api_key()\n",
    "\n",
    "    headers = {\n",
    "        \"Accept\": \"application/json\",\n",
    "        \"Authorization\": api_key\n",
    "    }\n",
    "\n",
    "    # Make the GET request to the API\n",
    "    response = requests.get(url, headers=headers)\n",
    "\n",
    "    # Check if the request was successful\n",
    "    if response.status_code == 200:\n",
    "        data = response.json()  # Parse the JSON response\n",
    "        # print(data)\n",
    "    else:\n",
    "        print(f\"Error: {response.status_code}\")\n",
    "\n",
    "    api_calls[0] += 1\n",
    "    return data"
   ],
   "metadata": {
    "collapsed": false
   }
  },
  {
   "cell_type": "code",
   "execution_count": null,
   "outputs": [],
   "source": [
    "api_calls = [0]\n",
    "\n",
    "# Get the HOTELS in newyork near 124 Hudson Street in a radiues of 150 meters\n",
    "url = \"https://api.foursquare.com/v3/places/search?query=hotel&ll=40.720276093678535%2C-74.00855578601094&radius=150\"\n",
    "data = get_json_data_from_api(url, api_calls)\n",
    "\n",
    "df = convert_json_to_df(data)\n",
    "\n",
    "#for each fsq_id value in the fsq_id column, make an API call to get the tips for that place\n",
    "# and then add the tips to the dataframe\n",
    "for fsq_id in df['fsq_id']:\n",
    "    url = f\"https://api.foursquare.com/v3/places/{fsq_id}/tips\"\n",
    "    tips = get_json_data_from_api(url, api_calls)\n",
    "\n",
    "    tips_text = [tip['text'] for tip in tips]  # Get the 'text' from each tip\n",
    "\n",
    "    # Assign the list of tip texts to the dataframe\n",
    "    df.loc[df['fsq_id'] == fsq_id, 'tips'] = ', '.join(tips_text)\n",
    "\n",
    "\n",
    "print(df.head())\n",
    "\n",
    "convert_df_to_csv(df, 'hotel_reviews_API.csv')\n",
    "print(\"CSV file has been saved as 'output.csv'\")\n",
    "print(\"API calls made:\", api_calls[0])"
   ],
   "metadata": {
    "collapsed": false
   }
  },
  {
   "cell_type": "markdown",
   "source": [
    "### Step 2: Get hotel data from KAYAK - Web Scraping\n",
    "* Import the necessary libraries\n",
    "* Define the necessary function for the Playwright and data retrival\n",
    "* Retrieve and save the data in .csv format"
   ],
   "metadata": {
    "collapsed": false
   }
  },
  {
   "cell_type": "code",
   "execution_count": null,
   "outputs": [],
   "source": [
    "from playwright.sync_api import sync_playwright"
   ],
   "metadata": {
    "collapsed": false
   }
  },
  {
   "cell_type": "code",
   "execution_count": null,
   "outputs": [],
   "source": [
    "def scrape_reviews_with_playwright(hotel_url):\n",
    "    reviews = []\n",
    "    with sync_playwright() as p:\n",
    "        browser = p.chromium.launch(headless=False)  # Set to False for debugging\n",
    "        context = browser.new_context()\n",
    "        page = context.new_page()\n",
    "\n",
    "        # Navigate to the hotel details page\n",
    "        page.goto(hotel_url)\n",
    "\n",
    "        try:\n",
    "            # Accept cookies if the cookie banner is present\n",
    "            if page.locator(\"button:has-text('Accetta')\").is_visible():\n",
    "                page.locator(\"button:has-text('Accetta')\").click()\n",
    "                print(\"Cookies accepted.\")\n",
    "\n",
    "            # Wait for the reviews section to load\n",
    "            page.wait_for_selector(\".acD_-reviews-row-header\", timeout=30000)\n",
    "\n",
    "            # Locate review containers\n",
    "            review_elements = page.query_selector_all(\".acD_\")\n",
    "\n",
    "            for review in review_elements:\n",
    "                try:\n",
    "                    # Extract rating\n",
    "                    rating = review.query_selector(\".wdjx-positive\").inner_text().strip() if review.query_selector(\".wdjx-positive\") else None\n",
    "                    # Extract score description\n",
    "                    score_description = review.query_selector(\".acD_-score-description\").inner_text().strip() if review.query_selector(\".acD_-score-description\") else None\n",
    "                    # Extract user name and date\n",
    "                    user_name_date = review.query_selector(\".acD_-userName\").inner_text().strip() if review.query_selector(\".acD_-userName\") else None\n",
    "                    # Extract pros/advantages\n",
    "                    pros = review.query_selector(\".acD_-pros\").inner_text().strip() if review.query_selector(\".acD_-pros\") else None\n",
    "                    # Extract the full review text\n",
    "                    full_review = review.query_selector(\"span[id^='showMoreText']\").inner_text().strip() if review.query_selector(\"span[id^='showMoreText']\") else None\n",
    "\n",
    "                    # Append review data\n",
    "                    reviews.append({\n",
    "                        'Rating': rating,\n",
    "                        'Score Description': score_description,\n",
    "                        'User': user_name_date,\n",
    "                        'Pros': pros,\n",
    "                        'Full Review': full_review\n",
    "                    })\n",
    "                except Exception as e:\n",
    "                    print(f\"Error processing review: {e}\")\n",
    "\n",
    "        except Exception as e:\n",
    "            print(f\"Error loading reviews: {e}\")\n",
    "        finally:\n",
    "            browser.close()\n",
    "\n",
    "    return reviews"
   ],
   "metadata": {
    "collapsed": false
   }
  },
  {
   "cell_type": "code",
   "execution_count": null,
   "outputs": [],
   "source": [
    "hotel_url = \"https://www.kayak.it/hotels/InterContinental-New-York-Barclay,New-York-p59560-h14931-details\"\n",
    "print(\"Scraping reviews for the hotel...\")\n",
    "reviews_data = scrape_reviews_with_playwright(hotel_url)\n",
    "\n",
    "# Save reviews to CSV\n",
    "if reviews_data:\n",
    "    reviews_df = pd.DataFrame(reviews_data)\n",
    "    reviews_df.to_csv(\"hotel_reviews_webscraping.csv\", index=False)\n",
    "    print(\"Reviews saved to hotel_reviews_playwright.csv.\")\n",
    "else:\n",
    "    print(\"No reviews found.\")"
   ],
   "metadata": {
    "collapsed": false
   }
  },
  {
   "cell_type": "markdown",
   "source": [
    "### Step 3: Visualize a data preview"
   ],
   "metadata": {
    "collapsed": false
   }
  },
  {
   "cell_type": "code",
   "execution_count": 4,
   "outputs": [
    {
     "name": "stdout",
     "output_type": "stream",
     "text": [
      "Dataframe preview:\n"
     ]
    },
    {
     "data": {
      "text/html": [
       "<div>\n",
       "<style scoped>\n",
       "    .dataframe tbody tr th:only-of-type {\n",
       "        vertical-align: middle;\n",
       "    }\n",
       "\n",
       "    .dataframe tbody tr th {\n",
       "        vertical-align: top;\n",
       "    }\n",
       "\n",
       "    .dataframe thead th {\n",
       "        text-align: right;\n",
       "    }\n",
       "</style>\n",
       "<table border=\"1\" class=\"dataframe\">\n",
       "  <thead>\n",
       "    <tr style=\"text-align: right;\">\n",
       "      <th></th>\n",
       "      <th>fsq_id</th>\n",
       "      <th>name</th>\n",
       "      <th>address</th>\n",
       "      <th>locality</th>\n",
       "      <th>country</th>\n",
       "      <th>formatted_address</th>\n",
       "      <th>latitude</th>\n",
       "      <th>longitude</th>\n",
       "      <th>distance</th>\n",
       "      <th>link</th>\n",
       "      <th>categories</th>\n",
       "      <th>tips</th>\n",
       "    </tr>\n",
       "  </thead>\n",
       "  <tbody>\n",
       "    <tr>\n",
       "      <th>0</th>\n",
       "      <td>4ab6c985f964a5200a7920e3</td>\n",
       "      <td>The Greenwich Hotel</td>\n",
       "      <td>377 Greenwich St</td>\n",
       "      <td>New York</td>\n",
       "      <td>US</td>\n",
       "      <td>377 Greenwich St (N. Moore), New York, NY 10013</td>\n",
       "      <td>40.719919</td>\n",
       "      <td>-74.009957</td>\n",
       "      <td>125</td>\n",
       "      <td>/v3/places/4ab6c985f964a5200a7920e3</td>\n",
       "      <td>['Hotel']</td>\n",
       "      <td>This Robert de Niro-owned boutique hotel has great service, great food (be sure to check out Locanda Verde), and great beds. What more could we want in a hotel?, For the love of this iconic hotel’...</td>\n",
       "    </tr>\n",
       "    <tr>\n",
       "      <th>1</th>\n",
       "      <td>4d8e0ccfd00a6ea8839faf4f</td>\n",
       "      <td>Shibui Spa</td>\n",
       "      <td>377 Greenwich St</td>\n",
       "      <td>New York</td>\n",
       "      <td>US</td>\n",
       "      <td>377 Greenwich St, New York, NY 10013</td>\n",
       "      <td>40.719867</td>\n",
       "      <td>-74.009911</td>\n",
       "      <td>150</td>\n",
       "      <td>/v3/places/4d8e0ccfd00a6ea8839faf4f</td>\n",
       "      <td>['Spa', 'Hotel']</td>\n",
       "      <td>Shibui Spa houses a lantern-lit swimming pool and lounge area. It's roofed under a 250-year old wood and bamboo farmhouse that was reconstructed in the Greenwich by Japanese craftsmen., A beautifu...</td>\n",
       "    </tr>\n",
       "    <tr>\n",
       "      <th>2</th>\n",
       "      <td>4a149749f964a52055781fe3</td>\n",
       "      <td>Locanda Verde</td>\n",
       "      <td>377 Greenwich St</td>\n",
       "      <td>New York</td>\n",
       "      <td>US</td>\n",
       "      <td>377 Greenwich St (at N Moore St), New York, NY 10013</td>\n",
       "      <td>40.719919</td>\n",
       "      <td>-74.009957</td>\n",
       "      <td>126</td>\n",
       "      <td>/v3/places/4a149749f964a52055781fe3</td>\n",
       "      <td>['Italian Restaurant']</td>\n",
       "      <td>I like the ricotta crostini, blue crab crostini, lamb sliders and grandmother’s ravioli! Andrew Carmellini worked with me at Café Boulud for many years and is an excellent chef., My Grandmother's ...</td>\n",
       "    </tr>\n",
       "  </tbody>\n",
       "</table>\n",
       "</div>"
      ],
      "text/plain": [
       "                     fsq_id                 name           address  locality  \\\n",
       "0  4ab6c985f964a5200a7920e3  The Greenwich Hotel  377 Greenwich St  New York   \n",
       "1  4d8e0ccfd00a6ea8839faf4f           Shibui Spa  377 Greenwich St  New York   \n",
       "2  4a149749f964a52055781fe3        Locanda Verde  377 Greenwich St  New York   \n",
       "\n",
       "  country                                     formatted_address   latitude  \\\n",
       "0      US       377 Greenwich St (N. Moore), New York, NY 10013  40.719919   \n",
       "1      US                  377 Greenwich St, New York, NY 10013  40.719867   \n",
       "2      US  377 Greenwich St (at N Moore St), New York, NY 10013  40.719919   \n",
       "\n",
       "   longitude  distance                                 link  \\\n",
       "0 -74.009957       125  /v3/places/4ab6c985f964a5200a7920e3   \n",
       "1 -74.009911       150  /v3/places/4d8e0ccfd00a6ea8839faf4f   \n",
       "2 -74.009957       126  /v3/places/4a149749f964a52055781fe3   \n",
       "\n",
       "               categories  \\\n",
       "0               ['Hotel']   \n",
       "1        ['Spa', 'Hotel']   \n",
       "2  ['Italian Restaurant']   \n",
       "\n",
       "                                                                                                                                                                                                      tips  \n",
       "0  This Robert de Niro-owned boutique hotel has great service, great food (be sure to check out Locanda Verde), and great beds. What more could we want in a hotel?, For the love of this iconic hotel’...  \n",
       "1  Shibui Spa houses a lantern-lit swimming pool and lounge area. It's roofed under a 250-year old wood and bamboo farmhouse that was reconstructed in the Greenwich by Japanese craftsmen., A beautifu...  \n",
       "2  I like the ricotta crostini, blue crab crostini, lamb sliders and grandmother’s ravioli! Andrew Carmellini worked with me at Café Boulud for many years and is an excellent chef., My Grandmother's ...  "
      ]
     },
     "execution_count": 4,
     "metadata": {},
     "output_type": "execute_result"
    }
   ],
   "source": [
    "def display_data_preview(filename):\n",
    "    pd.set_option('display.max_columns', 200)\n",
    "    pd.set_option('display.max_rows', 200)\n",
    "    pd.set_option('display.max_colwidth', 200)\n",
    "\n",
    "    # Load the CSV file into a DataFrame\n",
    "    df = pd.read_csv(filename)\n",
    "\n",
    "    print(\"Dataframe preview:\")\n",
    "    df.head()\n",
    "\n",
    "display_data_preview('hotel_reviews_API.csv')\n",
    "display_data_preview('hotel_reviews_webscraping.csv')"
   ],
   "metadata": {
    "collapsed": false
   }
  }
 ],
 "metadata": {
  "kernelspec": {
   "display_name": "base",
   "language": "python",
   "name": "python3"
  },
  "language_info": {
   "codemirror_mode": {
    "name": "ipython",
    "version": 3
   },
   "file_extension": ".py",
   "mimetype": "text/x-python",
   "name": "python",
   "nbconvert_exporter": "python",
   "pygments_lexer": "ipython3",
   "version": "3.11.8"
  }
 },
 "nbformat": 4,
 "nbformat_minor": 2
}
