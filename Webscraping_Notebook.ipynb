{
 "cells": [
  {
   "cell_type": "markdown",
   "metadata": {
    "collapsed": false
   },
   "source": [
    "## Webscraping and Applied ML - Project\n",
    "_Authors_: Alessia SARRITZU, Alberto MARTINELLI"
   ]
  },
  {
   "cell_type": "markdown",
   "metadata": {
    "collapsed": false
   },
   "source": [
    "### Step 1: Get hotel data from Foursquare\n",
    "* Import the necessary libraries\n",
    "* Define the necessary functions for the API calls and data retrival\n",
    "* Retrieve and save the data in .csv format"
   ]
  },
  {
   "cell_type": "code",
   "execution_count": 70,
   "metadata": {
    "collapsed": false
   },
   "outputs": [],
   "source": [
    "from dotenv import load_dotenv\n",
    "import os\n",
    "import pandas as pd\n",
    "import requests"
   ]
  },
  {
   "cell_type": "code",
   "execution_count": 71,
   "metadata": {
    "collapsed": false
   },
   "outputs": [],
   "source": [
    "def get_api_key():\n",
    "    # Load environment variables from the .env file\n",
    "    load_dotenv()\n",
    "\n",
    "    # Get the API key from the environment variable\n",
    "    api_key = os.getenv('API_KEY')  # Fetch the API key\n",
    "\n",
    "    if api_key is None:\n",
    "        print(\"API key is missing in the .env file!\")\n",
    "        exit()\n",
    "    return api_key\n",
    "\n",
    "def convert_json_to_df(data):\n",
    "    if data:\n",
    "        flattened_data = []\n",
    "\n",
    "        # Check if 'results' key exists (Type 1 JSON structure)\n",
    "        if isinstance(data, dict) and 'results' in data:\n",
    "            places = data['results']\n",
    "        # Otherwise, assume it's a list (Type 2 JSON structure)\n",
    "        else:\n",
    "            places = data\n",
    "\n",
    "        # Iterate over each place in 'places' (works for both Type 1 and Type 2)\n",
    "        for place in places:\n",
    "            # Extract the required fields based on Type 1 or Type 2 structure\n",
    "            if 'fsq_id' in place:  # Type 1 (place has 'fsq_id' and 'categories')\n",
    "                place_data = {\n",
    "                    'fsq_id': place['fsq_id'],\n",
    "                    'name': place['name'],\n",
    "                    'address': place['location']['address'] if 'location' in place else None,\n",
    "                    'locality': place['location']['locality'] if 'location' in place else None,\n",
    "                    'country': place['location']['country'] if 'location' in place else None,\n",
    "                    'formatted_address': place['location']['formatted_address'] if 'location' in place else None,\n",
    "                    'latitude': place['geocodes']['main']['latitude'] if 'geocodes' in place else None,\n",
    "                    'longitude': place['geocodes']['main']['longitude'] if 'geocodes' in place else None,\n",
    "                    'distance': place['distance'] if 'distance' in place else None,\n",
    "                    'link': place['link'],\n",
    "                    'categories': [category['name'] for category in place['categories']]  # Extract category names\n",
    "                }\n",
    "            elif 'id' in place:  # Type 2 (place has 'id' and 'text')\n",
    "                place_data = {\n",
    "                    'id': place['id'],\n",
    "                    'created_at': place['created_at'],\n",
    "                    'text': place['text']\n",
    "                }\n",
    "            flattened_data.append(place_data)\n",
    "\n",
    "        # Convert the list of flattened data into a DataFrame\n",
    "        df = pd.DataFrame(flattened_data)\n",
    "        return df\n",
    "    else:\n",
    "        print(\"No data available to save.\")\n",
    "\n",
    "def convert_df_to_csv(df, filename):\n",
    "    # Save the DataFrame to CSV\n",
    "    df.to_csv(filename, index=False)\n",
    "    # print(\"CSV file has been saved as 'output.csv'\")\n",
    "\n",
    "def get_json_data_from_api(url, api_calls):\n",
    "    api_key = get_api_key()\n",
    "\n",
    "    headers = {\n",
    "        \"Accept\": \"application/json\",\n",
    "        \"Authorization\": api_key\n",
    "    }\n",
    "\n",
    "    # Make the GET request to the API\n",
    "    response = requests.get(url, headers=headers)\n",
    "\n",
    "    # Check if the request was successful\n",
    "    if response.status_code == 200:\n",
    "        data = response.json()  # Parse the JSON response\n",
    "        # print(data)\n",
    "    else:\n",
    "        print(f\"Error: {response.status_code}\")\n",
    "\n",
    "    api_calls[0] += 1\n",
    "    return data"
   ]
  },
  {
   "cell_type": "code",
   "execution_count": 72,
   "metadata": {
    "collapsed": false
   },
   "outputs": [
    {
     "name": "stdout",
     "output_type": "stream",
     "text": [
      "                     fsq_id                 name           address  locality  \\\n",
      "0  4ab6c985f964a5200a7920e3  The Greenwich Hotel  377 Greenwich St  New York   \n",
      "1  4d8e0ccfd00a6ea8839faf4f           Shibui Spa  377 Greenwich St  New York   \n",
      "2  4a149749f964a52055781fe3        Locanda Verde  377 Greenwich St  New York   \n",
      "\n",
      "  country                                  formatted_address   latitude  \\\n",
      "0      US    377 Greenwich St (N. Moore), New York, NY 10013  40.719919   \n",
      "1      US               377 Greenwich St, New York, NY 10013  40.719867   \n",
      "2      US  377 Greenwich St (at N Moore St), New York, NY...  40.719919   \n",
      "\n",
      "   longitude  distance                                 link  \\\n",
      "0 -74.009957       125  /v3/places/4ab6c985f964a5200a7920e3   \n",
      "1 -74.009911       150  /v3/places/4d8e0ccfd00a6ea8839faf4f   \n",
      "2 -74.009957       126  /v3/places/4a149749f964a52055781fe3   \n",
      "\n",
      "             categories                                               tips  \n",
      "0               [Hotel]  This Robert de Niro-owned boutique hotel has g...  \n",
      "1          [Spa, Hotel]  Shibui Spa houses a lantern-lit swimming pool ...  \n",
      "2  [Italian Restaurant]  I like the ricotta crostini, blue crab crostin...  \n",
      "CSV file has been saved as 'output.csv'\n",
      "API calls made: 4\n"
     ]
    }
   ],
   "source": [
    "api_calls = [0]\n",
    "\n",
    "# Get the HOTELS in newyork near 124 Hudson Street in a radiues of 150 meters\n",
    "url = \"https://api.foursquare.com/v3/places/search?query=hotel&ll=40.720276093678535%2C-74.00855578601094&radius=150\"\n",
    "data = get_json_data_from_api(url, api_calls)\n",
    "\n",
    "df = convert_json_to_df(data)\n",
    "\n",
    "#for each fsq_id value in the fsq_id column, make an API call to get the tips for that place\n",
    "# and then add the tips to the dataframe\n",
    "for fsq_id in df['fsq_id']:\n",
    "    url = f\"https://api.foursquare.com/v3/places/{fsq_id}/tips\"\n",
    "    tips = get_json_data_from_api(url, api_calls)\n",
    "\n",
    "    tips_text = [tip['text'] for tip in tips]  # Get the 'text' from each tip\n",
    "\n",
    "    # Assign the list of tip texts to the dataframe\n",
    "    df.loc[df['fsq_id'] == fsq_id, 'tips'] = ', '.join(tips_text)\n",
    "\n",
    "\n",
    "print(df.head())\n",
    "\n",
    "convert_df_to_csv(df, 'hotel_reviews_API.csv')\n",
    "print(\"CSV file has been saved as 'output.csv'\")\n",
    "print(\"API calls made:\", api_calls[0])"
   ]
  },
  {
   "cell_type": "markdown",
   "metadata": {
    "collapsed": false
   },
   "source": [
    "### Step 2: Get hotel data from KAYAK - Web Scraping\n",
    "* Import the necessary libraries\n",
    "* Define the necessary function for the Playwright and data retrival\n",
    "* Retrieve and save the data in .csv format"
   ]
  },
  {
   "cell_type": "code",
   "execution_count": 73,
   "metadata": {
    "collapsed": false
   },
   "outputs": [],
   "source": [
    "from playwright.sync_api import sync_playwright"
   ]
  },
  {
   "cell_type": "code",
   "execution_count": 74,
   "metadata": {
    "collapsed": false
   },
   "outputs": [],
   "source": [
    "def scrape_reviews_with_playwright(hotel_url):\n",
    "    reviews = []\n",
    "    with sync_playwright() as p:\n",
    "        browser = p.chromium.launch(headless=False)  # Set to False for debugging\n",
    "        context = browser.new_context()\n",
    "        page = context.new_page()\n",
    "\n",
    "        # Navigate to the hotel details page\n",
    "        page.goto(hotel_url)\n",
    "\n",
    "        try:\n",
    "            # Accept cookies if the cookie banner is present\n",
    "            if page.locator(\"button:has-text('Accetta')\").is_visible():\n",
    "                page.locator(\"button:has-text('Accetta')\").click()\n",
    "                print(\"Cookies accepted.\")\n",
    "\n",
    "            # Wait for the reviews section to load\n",
    "            page.wait_for_selector(\".acD_-reviews-row-header\", timeout=30000)\n",
    "\n",
    "            # Locate review containers\n",
    "            review_elements = page.query_selector_all(\".acD_\")\n",
    "\n",
    "            for review in review_elements:\n",
    "                try:\n",
    "                    # Extract rating\n",
    "                    rating = review.query_selector(\".wdjx-positive\").inner_text().strip() if review.query_selector(\".wdjx-positive\") else None\n",
    "                    # Extract score description\n",
    "                    score_description = review.query_selector(\".acD_-score-description\").inner_text().strip() if review.query_selector(\".acD_-score-description\") else None\n",
    "                    # Extract user name and date\n",
    "                    user_name_date = review.query_selector(\".acD_-userName\").inner_text().strip() if review.query_selector(\".acD_-userName\") else None\n",
    "                    # Extract pros/advantages\n",
    "                    pros = review.query_selector(\".acD_-pros\").inner_text().strip() if review.query_selector(\".acD_-pros\") else None\n",
    "                    # Extract the full review text\n",
    "                    full_review = review.query_selector(\"span[id^='showMoreText']\").inner_text().strip() if review.query_selector(\"span[id^='showMoreText']\") else None\n",
    "\n",
    "                    # Append review data\n",
    "                    reviews.append({\n",
    "                        'Rating': rating,\n",
    "                        'Score Description': score_description,\n",
    "                        'User': user_name_date,\n",
    "                        'Pros': pros,\n",
    "                        'Full Review': full_review\n",
    "                    })\n",
    "                except Exception as e:\n",
    "                    print(f\"Error processing review: {e}\")\n",
    "\n",
    "        except Exception as e:\n",
    "            print(f\"Error loading reviews: {e}\")\n",
    "        finally:\n",
    "            browser.close()\n",
    "\n",
    "    return reviews"
   ]
  },
  {
   "cell_type": "code",
   "execution_count": 75,
   "metadata": {},
   "outputs": [],
   "source": [
    "import nest_asyncio\n",
    "import asyncio\n",
    "import atexit\n",
    "from playwright.async_api import async_playwright\n",
    "\n",
    "# Allow nested event loops\n",
    "nest_asyncio.apply()\n",
    "\n",
    "async def scrape_reviews_with_playwright_async(hotel_url):\n",
    "    reviews = []\n",
    "\n",
    "    pw = await async_playwright().start()\n",
    "    browser = await pw.chromium.launch(headless=False)  # Set to False for debugging\n",
    "    page = await browser.new_page()\n",
    "\n",
    "    # All methods are async (use the \"await\" keyword)\n",
    "    # Navigate to the hotel details page\n",
    "    await page.goto(hotel_url)\n",
    "\n",
    "    try:\n",
    "        # Accept cookies if the cookie banner is present\n",
    "        if await page.locator(\"button:has-text('Accetta')\").is_visible():\n",
    "            await page.locator(\"button:has-text('Accetta')\").click()\n",
    "            print(\"Cookies accepted.\")\n",
    "\n",
    "        # Wait for the reviews section to load\n",
    "        await page.wait_for_selector(\".acD_-reviews-row-header\", timeout=30000)\n",
    "\n",
    "        # Locate review containers\n",
    "        review_elements = await page.query_selector_all(\".acD_\")\n",
    "\n",
    "        for review in review_elements:\n",
    "            try:\n",
    "                # Extract rating\n",
    "                rating_element = await review.query_selector(\".wdjx-positive\")\n",
    "                rating = (await rating_element.inner_text()).strip() if rating_element else None\n",
    "                # Extract score description\n",
    "                score_description_element = await review.query_selector(\".acD_-score-description\")\n",
    "                score_description = (await score_description_element.inner_text()).strip() if score_description_element else None\n",
    "                # Extract user name and date\n",
    "                user_name_date_element = await review.query_selector(\".acD_-userName\")\n",
    "                user_name_date = (await user_name_date_element.inner_text()).strip() if user_name_date_element else None\n",
    "                # Extract pros/advantages\n",
    "                pros_element = await review.query_selector(\".acD_-pros\")\n",
    "                pros = (await pros_element.inner_text()).strip() if pros_element else None\n",
    "                # Extract the full review text\n",
    "                full_review_element = await review.query_selector(\"span[id^='showMoreText']\")\n",
    "                full_review = (await full_review_element.inner_text()).strip() if full_review_element else None\n",
    "\n",
    "                # Append review data\n",
    "                reviews.append({\n",
    "                    'Rating': rating,\n",
    "                    'Score Description': score_description,\n",
    "                    'User': user_name_date,\n",
    "                    'Pros': pros,\n",
    "                    'Full Review': full_review\n",
    "                })\n",
    "            except Exception as e:\n",
    "                print(f\"Error processing review: {e}\")\n",
    "\n",
    "    except Exception as e:\n",
    "        print(f\"Error loading reviews: {e}\")\n",
    "    finally:\n",
    "        await browser.close()\n",
    "\n",
    "    # Function to close browser and stop Playwright\n",
    "    async def shutdown_playwright():\n",
    "        await browser.close()\n",
    "        await pw.stop()\n",
    "\n",
    "    # Register shutdown hook for when the program exits\n",
    "    atexit.register(lambda: asyncio.run(shutdown_playwright()))\n",
    "\n",
    "    return reviews\n",
    "\n",
    "# Run the async main function\n",
    "# await scrape_reviews_with_playwright_2()  # Use await directly instead of asyncio.run()"
   ]
  },
  {
   "cell_type": "code",
   "execution_count": null,
   "metadata": {
    "collapsed": false
   },
   "outputs": [
    {
     "name": "stdout",
     "output_type": "stream",
     "text": [
      "Scraping reviews for the hotel...\n",
      "Reviews saved to hotel_reviews_playwright.csv.\n"
     ]
    }
   ],
   "source": [
    "hotel_url = \"https://www.kayak.it/hotels/InterContinental-New-York-Barclay,New-York-p59560-h14931-details\"\n",
    "print(\"Scraping reviews for the hotel...\")\n",
    "reviews_data = await scrape_reviews_with_playwright_async(hotel_url)\n",
    "\n",
    "# Save reviews to CSV\n",
    "if reviews_data:\n",
    "    reviews_df = pd.DataFrame(reviews_data)\n",
    "    reviews_df.to_csv(\"hotel_reviews_webscraping.csv\", index=False)\n",
    "    print(\"Reviews saved to hotel_reviews_webscraping.csv.\")\n",
    "else:\n",
    "    print(\"No reviews found.\")"
   ]
  },
  {
   "cell_type": "markdown",
   "metadata": {
    "collapsed": false
   },
   "source": [
    "### Step 3: Visualize a data preview"
   ]
  },
  {
   "cell_type": "code",
   "execution_count": null,
   "metadata": {
    "collapsed": false
   },
   "outputs": [
    {
     "name": "stdout",
     "output_type": "stream",
     "text": [
      "Dataframe preview:\n",
      "+----+--------------------------+---------------------+------------------+------------+-----------+------------------------------------------------------+------------+-------------+------------+-------------------------------------+------------------------+----------------------------------------------------------------------------------------------------------------------------------------------------------------------------------------------------------------------------------------------------------------------------------------------------------------------------------------------------------------------------------------------------------------------------------------------------------------------------------------------------------------------------------------------------------------------------------------------------------------------------------------------------------------------------------------------------------------------------------------------------------------------------------------------------------------------------------------------------------------------------------------------------------------------------------------------------------------------------------------------------------------------------------------------------------------------------------------------------------------------------------------------------------------------------------------------------------------------------------------------------------------------------------------------------------------------------------------------------------------------------------------------------------------------------------------------------------------------------------------------------------------------------------------------------------------------------------------------------------------------------------------------------------------------------------------------------------------------------------------------------------------------------------------------------------+\n",
      "|    | fsq_id                   | name                | address          | locality   | country   | formatted_address                                    |   latitude |   longitude |   distance | link                                | categories             | tips                                                                                                                                                                                                                                                                                                                                                                                                                                                                                                                                                                                                                                                                                                                                                                                                                                                                                                                                                                                                                                                                                                                                                                                                                                                                                                                                                                                                                                                                                                                                                                                                                                                                                                                                                                                                     |\n",
      "|----+--------------------------+---------------------+------------------+------------+-----------+------------------------------------------------------+------------+-------------+------------+-------------------------------------+------------------------+----------------------------------------------------------------------------------------------------------------------------------------------------------------------------------------------------------------------------------------------------------------------------------------------------------------------------------------------------------------------------------------------------------------------------------------------------------------------------------------------------------------------------------------------------------------------------------------------------------------------------------------------------------------------------------------------------------------------------------------------------------------------------------------------------------------------------------------------------------------------------------------------------------------------------------------------------------------------------------------------------------------------------------------------------------------------------------------------------------------------------------------------------------------------------------------------------------------------------------------------------------------------------------------------------------------------------------------------------------------------------------------------------------------------------------------------------------------------------------------------------------------------------------------------------------------------------------------------------------------------------------------------------------------------------------------------------------------------------------------------------------------------------------------------------------|\n",
      "|  0 | 4ab6c985f964a5200a7920e3 | The Greenwich Hotel | 377 Greenwich St | New York   | US        | 377 Greenwich St (N. Moore), New York, NY 10013      |    40.7199 |    -74.01   |        125 | /v3/places/4ab6c985f964a5200a7920e3 | ['Hotel']              | This Robert de Niro-owned boutique hotel has great service, great food (be sure to check out Locanda Verde), and great beds. What more could we want in a hotel?, For the love of this iconic hotel’s outdoor seating area🤍 an oasis in the middle of the city, everything in this place is old-school New York and that’s what makes it a must visit🤍 coffee’s great., Don’t miss an Asian-inspired treatment at the hotel's Shibui Spa, which features a pool canopied by 250-year-old beams from a Japanese farmhouse., Relax in the drawing room for breakfast, lunch or dinner. Great people watching and a lovely setting. Try the homemade sheep's milk ricotta., Beautiful rooms, a calm subterranean pool, and a great hotel bar. Grab a drink and a spot near the fireplace, and look out for familiar faces., Hidden away in tony Tribeca, the Greenwich features a subtler take on this luxury, as Drukier and co-owner Robert De Niro seem to want to impress at every turn., My fave hotel in NYC. Impeccable service.Quietly distinct. The meals in the lounge are divine. Say hi to Tom from the Canucks Lynne & Michael. He's a great guy~ you will love the hotel !!, Mysterious hotel, mysterious underground pool. Breakfast in a beautiful sun-lit courtyard. What not to like?!, [Hotel] There are 88 rooms, but still feels like a small and exclusive private club. Impeccable decor, pro service and an oasis-like courtyard. Co-owned by Robert De Niro. Double rooms start at $550., Robert De Niro is an owner of this hotel, & he's occasionally clashed with the city's Landmarks Preservation Commission over the penthouse he added. Each of the 88 rooms has different furnishings.                                                                                   |\n",
      "|  1 | 4d8e0ccfd00a6ea8839faf4f | Shibui Spa          | 377 Greenwich St | New York   | US        | 377 Greenwich St, New York, NY 10013                 |    40.7199 |    -74.0099 |        150 | /v3/places/4d8e0ccfd00a6ea8839faf4f | ['Spa', 'Hotel']       | Shibui Spa houses a lantern-lit swimming pool and lounge area. It's roofed under a 250-year old wood and bamboo farmhouse that was reconstructed in the Greenwich by Japanese craftsmen., A beautiful, tranquil and impressively hygienic spa✨ treatments in here are super popular so book in advance and later on enjoy the pool and overall atmosphere., The Greenwich Hotel's guest spa opened to the one percent a few years ago, and since then it's been offering up high-end massages, body scrubs and facials in its Japanese-themed space., One of the most beautiful, tranquil spas I've ever been to. The vitamin c facial will bring you back to life., Beautiful place. Minimalistic decor spa is so zen and intimate. Massage was good not incredible. Pool is so nice!, Book a treatment for early in the day and spend the post-treatment time lounging poolside in the Greenwich hotel's enchantingly lit pool area, Pricey but great treatments.  Bring a bathing suit for the pool., You can opt for a $75 sake soak, which according to Japanese lore, will clear evil spirits and give way to new beginnings, Opt in for the Japanese soak, it's amazing! Beautiful facility., best massage ive had in nyc to date... poolside lounging w fruit better than other spas waiting areas                                                                                                                                                                                                                                                                                                                                                                                                                                                                                              |\n",
      "|  2 | 4a149749f964a52055781fe3 | Locanda Verde       | 377 Greenwich St | New York   | US        | 377 Greenwich St (at N Moore St), New York, NY 10013 |    40.7199 |    -74.01   |        126 | /v3/places/4a149749f964a52055781fe3 | ['Italian Restaurant'] | I like the ricotta crostini, blue crab crostini, lamb sliders and grandmother’s ravioli! Andrew Carmellini worked with me at Café Boulud for many years and is an excellent chef., My Grandmother's Ravioli: This is some serious ravioli. It’s stuffed with beef, veal and pork, topped with a thick, zesty sauce and a sprinkling of cheese. Lovers of light, airy pasta need not apply., The food here is exceptional, compared to some of the other restaurants that have more than one Michelin star this one is far better. Excellent wine selection with sommelier! Ravioli to die for! Yum!, Lovely to sit outside. Ricotta app and duck sausage pasta great! Mushroom one also better (had small bite!), A tad scene-y and food can be mixed. However, for solid brunch fare, start with the sheep’s milk ricotta with truffle honey ($15) and move to the uovo modenese with cotechino hash ($20)., Really enjoyed the Malfadine Verde, the unique texture of the pasta complements the white veal  bolognese. I would totally come back for it!, The food, quite simply, is just delicious. The complimentary focaccia is divine. Try the paccheri pasta with the lamb sliders. The riccota crostini dish is very lush too. Buy a bottle or two of wine!, A perfectly balanced interior, is upscale yet approachable with wonderful service and a strong showing in food. Ricotta, Ravioli, and the Rice Pudding are all winners., Sheep's milk ricotta and the meatball sliders were fantastic, but the spaghetti alla chitarra was too overpowered by the seafood taste and the paccheri was a little too al dente. Nice wine selection!, We ordered burrata, lamb meatball, pasta(tonnarelli cacio e pepe) and scallops; food was amazing and service was on point. Can’t wait to go back! |\n",
      "+----+--------------------------+---------------------+------------------+------------+-----------+------------------------------------------------------+------------+-------------+------------+-------------------------------------+------------------------+----------------------------------------------------------------------------------------------------------------------------------------------------------------------------------------------------------------------------------------------------------------------------------------------------------------------------------------------------------------------------------------------------------------------------------------------------------------------------------------------------------------------------------------------------------------------------------------------------------------------------------------------------------------------------------------------------------------------------------------------------------------------------------------------------------------------------------------------------------------------------------------------------------------------------------------------------------------------------------------------------------------------------------------------------------------------------------------------------------------------------------------------------------------------------------------------------------------------------------------------------------------------------------------------------------------------------------------------------------------------------------------------------------------------------------------------------------------------------------------------------------------------------------------------------------------------------------------------------------------------------------------------------------------------------------------------------------------------------------------------------------------------------------------------------------+\n",
      "Dataframe preview:\n",
      "+----+----------+---------------------+---------------------+------------------------------------------------------------------------------------------------------------------------------------------------------------------------------------------------------------------------------------------------------------------------------------------------------------------------------------------------------------------------------------------------------------------------------+---------------------------------------------------------------------------------------------------------------------------------------------------------------------------------------------------------------------------------------------------------------------------------------------------------------------------------------------------------------------------------------------------------------------+\n",
      "|    |   Rating | Score Description   | User                | Pros                                                                                                                                                                                                                                                                                                                                                                                                                         | Full Review                                                                                                                                                                                                                                                                                                                                                                                                         |\n",
      "|----+----------+---------------------+---------------------+------------------------------------------------------------------------------------------------------------------------------------------------------------------------------------------------------------------------------------------------------------------------------------------------------------------------------------------------------------------------------------------------------------------------------+---------------------------------------------------------------------------------------------------------------------------------------------------------------------------------------------------------------------------------------------------------------------------------------------------------------------------------------------------------------------------------------------------------------------|\n",
      "|  0 |        8 | Molto buono         | Cristina, set 2024  | Vantaggi (+) Struttura storica e simbolica della città. Hall molto bella ed ampia con bellissimo bar circolare dove poter gustare un cocktail. Camera storica abbastanza spaziosa con tutti i comfort disponibili. Colazione a buffet disponibile in struttura, non possiamo darne un giudizio in quanto non ne abbiamo usufruito. Posizione centrale a 3 minuti a piedi da Grand Central e circa 10 minuti da Times Square. | Struttura storica e simbolica della città. Hall molto bella ed ampia con bellissimo bar circolare dove poter gustare un cocktail. Camera storica abbastanza spaziosa con tutti i comfort disponibili. Colazione a buffet disponibile in struttura, non possiamo darne un giudizio in quanto non ne abbiamo usufruito. Posizione centrale a 3 minuti a piedi da Grand Central e circa 10 minuti da Times Square.     |\n",
      "|  1 |       10 | Meraviglioso        | Marcello, lug 2024  | Vantaggi (+) struttura molto bella!                                                                                                                                                                                                                                                                                                                                                                                          | struttura molto bella!                                                                                                                                                                                                                                                                                                                                                                                              |\n",
      "|  2 |        9 | Meraviglioso        | Flavio, apr 2024    | Vantaggi (+) Ampiezza delle stanze e dei locali comuni. Pulizia quotidiana effettuata con estrema attenzione e cura. Ottima posizione fuori dal caos.                                                                                                                                                                                                                                                                        | Ampiezza delle stanze e dei locali comuni. Pulizia quotidiana effettuata con estrema attenzione e cura. Ottima posizione fuori dal caos.                                                                                                                                                                                                                                                                            |\n",
      "|  3 |      nan | Mediocre            | Angiolino, gen 2024 | Vantaggi (+) Posizione e pulizia                                                                                                                                                                                                                                                                                                                                                                                             | Posizione e pulizia                                                                                                                                                                                                                                                                                                                                                                                                 |\n",
      "|  4 |      nan | Scarso              | Enrico, nov 2023    | nan                                                                                                                                                                                                                                                                                                                                                                                                                          | Customer service inesistente. L’app concierge è’ una presa in giro e l’hotel non fa nulla per soddisfare il cliente anche se non prevede alcun extra costo per la struttura                                                                                                                                                                                                                                         |\n",
      "|  5 |        8 | Molto buono         | Matteo, lug 2023    | Vantaggi (+) Posizione ottima nel cuore di Manhattan ma in una strada tranquilla non affollata. Palazzo storico e camere arredate in stile. Letto ultra comodo e prodotti per il bagno di Byredo.                                                                                                                                                                                                                            | Posizione ottima nel cuore di Manhattan ma in una strada tranquilla non affollata. Palazzo storico e camere arredate in stile. Letto ultra comodo e prodotti per il bagno di Byredo.                                                                                                                                                                                                                                |\n",
      "|  6 |      nan | Buono               | Anonimo, giu 2023   | nan                                                                                                                                                                                                                                                                                                                                                                                                                          | OTTIMO HOTEL, FORSE UN PO' MENO LE PULIZIE. ARRIVARE E TROVARE IL COPERCHIO DEL WATER SPORCO.... MA SPORCO.....(!!) NON E' STATO UN IMPATTO GRADEVOLE PER UN HOTEL 5*. ALTRO APPUNTO: LA MACCHINA DEL CAFFE' NON FUNZIONAVA BENE. PER IL RESTO TUTTI GENTILI, PRODIGHI DI CORTESIA E SEMPRE PRONTI AD AIUTARE. HOTEL MOLTO COMODO, E DOTATO DI TUTTI I COMFORT NECESSARI PER UN TO STAY DI QUALITA'. FORSE UN PO... |\n",
      "|  7 |        9 | Meraviglioso        | Rivolta, gen 2023   | Vantaggi (+) Breakfast Servizio da parte del personale                                                                                                                                                                                                                                                                                                                                                                       | Breakfast Servizio da parte del personale                                                                                                                                                                                                                                                                                                                                                                           |\n",
      "|  8 |      nan | Carino              | Cristiano, nov 2022 | Vantaggi (+) La posizione                                                                                                                                                                                                                                                                                                                                                                                                    | La posizione                                                                                                                                                                                                                                                                                                                                                                                                        |\n",
      "|  9 |      nan | Buono               | Maurizio, set 2022  | Vantaggi (+) Posizione                                                                                                                                                                                                                                                                                                                                                                                                       | Posizione                                                                                                                                                                                                                                                                                                                                                                                                           |\n",
      "+----+----------+---------------------+---------------------+------------------------------------------------------------------------------------------------------------------------------------------------------------------------------------------------------------------------------------------------------------------------------------------------------------------------------------------------------------------------------------------------------------------------------+---------------------------------------------------------------------------------------------------------------------------------------------------------------------------------------------------------------------------------------------------------------------------------------------------------------------------------------------------------------------------------------------------------------------+\n"
     ]
    }
   ],
   "source": [
    "from tabulate import tabulate\n",
    "def display_data_preview(filename):\n",
    "    pd.set_option('display.max_columns', 200)\n",
    "    pd.set_option('display.max_rows', 200)\n",
    "    pd.set_option('display.max_colwidth', 200)\n",
    "\n",
    "    # Load the CSV file into a DataFrame\n",
    "    df = pd.read_csv(filename)\n",
    "\n",
    "    print(\"Dataframe preview:\")\n",
    "    print(tabulate(df, headers='keys', tablefmt='psql'))\n",
    "\n",
    "display_data_preview('hotel_reviews_API.csv')\n",
    "display_data_preview('hotel_reviews_webscraping.csv')"
   ]
  }
 ],
 "metadata": {
  "kernelspec": {
   "display_name": "base",
   "language": "python",
   "name": "python3"
  },
  "language_info": {
   "codemirror_mode": {
    "name": "ipython",
    "version": 3
   },
   "file_extension": ".py",
   "mimetype": "text/x-python",
   "name": "python",
   "nbconvert_exporter": "python",
   "pygments_lexer": "ipython3",
   "version": "3.11.8"
  }
 },
 "nbformat": 4,
 "nbformat_minor": 2
}
